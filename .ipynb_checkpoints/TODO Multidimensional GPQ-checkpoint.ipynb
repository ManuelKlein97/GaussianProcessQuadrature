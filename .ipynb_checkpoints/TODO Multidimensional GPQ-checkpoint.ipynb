{
 "cells": [
  {
   "cell_type": "markdown",
   "id": "21432199",
   "metadata": {},
   "source": [
    "# Multidimensional Gaussian process quadrature\n",
    "\n",
    "In this section we will have a look at the multidimensional node selection for GPQ. We will first use the standart nodes for 1D and extend them to two dimensions."
   ]
  },
  {
   "cell_type": "code",
   "execution_count": 1,
   "id": "aff9f7e7",
   "metadata": {},
   "outputs": [],
   "source": [
    "import kernels\n",
    "import GPy\n",
    "import numpy as np\n",
    "import functions\n",
    "from matplotlib import pyplot as plt\n",
    "import scipy as sp"
   ]
  },
  {
   "cell_type": "code",
   "execution_count": 2,
   "id": "2c3cd12e",
   "metadata": {},
   "outputs": [],
   "source": [
    "rng = np.random.default_rng(420)\n",
    "length = rng.integers(low=1, high=16, size=1)\n",
    "coeff = rng.random((length[0], length[0]))"
   ]
  },
  {
   "cell_type": "code",
   "execution_count": 4,
   "id": "77a511c1",
   "metadata": {},
   "outputs": [],
   "source": [
    "def func(x: float, y: float):\n",
    "    temp = 0\n",
    "    for i in range(0, coeff.shape[0]):\n",
    "        for j in range(0, coeff.shape[1]):\n",
    "            temp = temp + coeff[i, j] * np.power(x, i) * np.power(y, j)\n",
    "    return temp"
   ]
  },
  {
   "cell_type": "code",
   "execution_count": 5,
   "id": "02e24f20",
   "metadata": {},
   "outputs": [
    {
     "data": {
      "text/plain": [
       "(7.992989811183268, 1.9272367293489464e-13)"
      ]
     },
     "execution_count": 5,
     "metadata": {},
     "output_type": "execute_result"
    }
   ],
   "source": [
    "sp.integrate.dblquad(func, -1, 1, -1, 1)"
   ]
  },
  {
   "cell_type": "code",
   "execution_count": 6,
   "id": "d1a85b4b",
   "metadata": {},
   "outputs": [],
   "source": [
    "PBK = kernels.PolynomialBasis(input_dim=1, weight=0.98)"
   ]
  },
  {
   "cell_type": "code",
   "execution_count": 7,
   "id": "8d198111",
   "metadata": {},
   "outputs": [
    {
     "data": {
      "text/plain": [
       "7.054872447715058"
      ]
     },
     "execution_count": 7,
     "metadata": {},
     "output_type": "execute_result"
    }
   ],
   "source": [
    "functions.GPQ_multi(f=func, kernel=PBK, A=np.array([-1, 1]), NoN=2, return_var=False)"
   ]
  },
  {
   "cell_type": "code",
   "execution_count": 15,
   "id": "fc2b7cec",
   "metadata": {},
   "outputs": [
    {
     "data": {
      "text/plain": [
       "7.992989811183278"
      ]
     },
     "execution_count": 15,
     "metadata": {},
     "output_type": "execute_result"
    }
   ],
   "source": [
    "functions.GLQ_multi(f=func, A=np.array([-1, 1]), NoN=12)"
   ]
  },
  {
   "cell_type": "code",
   "execution_count": 9,
   "id": "6884fba6",
   "metadata": {},
   "outputs": [
    {
     "ename": "SyntaxError",
     "evalue": "invalid syntax (Temp/ipykernel_240/4213324918.py, line 1)",
     "output_type": "error",
     "traceback": [
      "\u001b[1;36m  File \u001b[1;32m\"C:\\Users\\MANUEL~1\\AppData\\Local\\Temp/ipykernel_240/4213324918.py\"\u001b[1;36m, line \u001b[1;32m1\u001b[0m\n\u001b[1;33m    functions.\u001b[0m\n\u001b[1;37m              ^\u001b[0m\n\u001b[1;31mSyntaxError\u001b[0m\u001b[1;31m:\u001b[0m invalid syntax\n"
     ]
    }
   ],
   "source": []
  },
  {
   "cell_type": "code",
   "execution_count": null,
   "id": "34b07084",
   "metadata": {},
   "outputs": [],
   "source": []
  }
 ],
 "metadata": {
  "kernelspec": {
   "display_name": "Python 3 (ipykernel)",
   "language": "python",
   "name": "python3"
  },
  "language_info": {
   "codemirror_mode": {
    "name": "ipython",
    "version": 3
   },
   "file_extension": ".py",
   "mimetype": "text/x-python",
   "name": "python",
   "nbconvert_exporter": "python",
   "pygments_lexer": "ipython3",
   "version": "3.7.11"
  }
 },
 "nbformat": 4,
 "nbformat_minor": 5
}
