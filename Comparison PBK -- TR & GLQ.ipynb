{
 "cells": [
  {
   "cell_type": "markdown",
   "id": "e63bb5f8",
   "metadata": {},
   "source": [
    "# Comparing GPQ with TR & GLQ\n",
    "\n",
    "In this notebook we will have an investigation on how well the Gaussian process quadrature using the polynomial basis kernel is performing when compared to classic quadrature rules such as the trapezoidal rule and the Gauss-Legendre rules."
   ]
  },
  {
   "cell_type": "code",
   "execution_count": 1,
   "id": "57a0b458",
   "metadata": {},
   "outputs": [],
   "source": [
    "import numpy as np\n",
    "import scipy as sp\n",
    "import GPy\n",
    "import kernels\n",
    "import functions\n",
    "from matplotlib import pyplot as plt"
   ]
  },
  {
   "cell_type": "markdown",
   "id": "2476886c",
   "metadata": {},
   "source": [
    "## First comparison\n",
    "\n",
    "First we will compare the rules for a single polynomial (the running example from the bachelorthesis)."
   ]
  },
  {
   "cell_type": "code",
   "execution_count": 2,
   "id": "4f87a2db",
   "metadata": {},
   "outputs": [],
   "source": [
    "rng = np.random.default_rng(420)\n",
    "length = rng.integers(low=1, high=16, size=1)\n",
    "coeff = rng.random((length[0],))\n",
    "\n",
    "def poly(x):\n",
    "    temp = 0\n",
    "    for i in range(0, len(coeff)):\n",
    "        temp = temp + coeff[i] * np.power(x, i)\n",
    "    return temp"
   ]
  },
  {
   "cell_type": "code",
   "execution_count": 3,
   "id": "c2eea076",
   "metadata": {},
   "outputs": [],
   "source": [
    "intapprox = np.zeros((3, 6))\n",
    "abs_err = np.zeros((3, 6))\n",
    "rel_err = np.zeros((3, 6))\n",
    "I_poly = sp.integrate.quad(poly, a=-1, b=1, epsabs=1.49e-16)[0]\n",
    "\n",
    "best_b = np.array([0.99, 0.59, 0.29, 0.44, 0.54, 0.58])\n",
    "for k in range(2, 8):\n",
    "    PBK = kernels.PolynomialBasis(input_dim=1, weight=best_b[k-2])\n",
    "    intapprox[0][k-2] = functions.GPQ(f=poly, kernel=PBK, A=np.array([-1, 1]), NoN=k, return_var=False)\n",
    "    intapprox[1][k-2] = functions.trapez(f=poly, A=np.array([-1, 1]), NoN=k)\n",
    "    intapprox[2][k-2] = functions.GLQ(f=poly, A=np.array([-1, 1]), NoN=k)\n",
    "    abs_err[0][k-2] = np.absolute(intapprox[0][k-2] - I_poly)\n",
    "    abs_err[1][k-2] = np.absolute(intapprox[1][k-2] - I_poly)\n",
    "    abs_err[2][k-2] = np.absolute(intapprox[2][k-2] - I_poly)\n",
    "    rel_err[0][k-2] = abs_err[0][k-2] / np.absolute(I_poly)\n",
    "    rel_err[1][k-2] = abs_err[1][k-2] / np.absolute(I_poly)\n",
    "    rel_err[2][k-2] = abs_err[2][k-2] / np.absolute(I_poly)"
   ]
  },
  {
   "cell_type": "markdown",
   "id": "e28e8ff6",
   "metadata": {},
   "source": [
    "Now we will plot the results:"
   ]
  },
  {
   "cell_type": "code",
   "execution_count": 4,
   "id": "10446018",
   "metadata": {},
   "outputs": [
    {
     "data": {
      "image/png": "[encoded data removed]",
      "text/plain": [
       "<Figure size 432x288 with 2 Axes>"
      ]
     },
     "metadata": {
      "needs_background": "light"
     },
     "output_type": "display_data"
    }
   ],
   "source": [
    "X = np.arange(2, 8, 1)\n",
    "\n",
    "fig, (ax1, ax2) = plt.subplots(1, 2, sharex=True, sharey=True)\n",
    "fig.suptitle('Comparison of GPQ, TR & GLQ for the random polynomial')\n",
    "ax1.plot(X, abs_err[0], 'r.', label='GPQ')\n",
    "ax1.plot(X, abs_err[1], 'b.', label='TR')\n",
    "ax1.plot(X, abs_err[2], 'g.', label='GLQ')\n",
    "ax1.set_ylabel('Abs. error')\n",
    "ax1.set_xlabel('Number of nodes')\n",
    "ax1.grid()\n",
    "ax2.plot(X, rel_err[0], 'r.', label='GPQ')\n",
    "ax2.plot(X, rel_err[1], 'b.', label='TR')\n",
    "ax2.plot(X, rel_err[2], 'g.', label='GLQ')\n",
    "ax2.set_ylabel('Rel. error')\n",
    "ax2.set_xlabel('Number of nodes')\n",
    "ax2.grid()\n",
    "ax2.legend()\n",
    "plt.show()"
   ]
  },
  {
   "cell_type": "code",
   "execution_count": null,
   "id": "35e5ac7b",
   "metadata": {},
   "outputs": [],
   "source": []
  }
 ],
 "metadata": {
  "kernelspec": {
   "display_name": "Python 3 (ipykernel)",
   "language": "python",
   "name": "python3"
  },
  "language_info": {
   "codemirror_mode": {
    "name": "ipython",
    "version": 3
   },
   "file_extension": ".py",
   "mimetype": "text/x-python",
   "name": "python",
   "nbconvert_exporter": "python",
   "pygments_lexer": "ipython3",
   "version": "3.7.11"
  }
 },
 "nbformat": 4,
 "nbformat_minor": 5
}
