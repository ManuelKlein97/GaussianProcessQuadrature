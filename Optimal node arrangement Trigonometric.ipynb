{
 "cells": [
  {
   "cell_type": "markdown",
   "id": "35f85fb0",
   "metadata": {},
   "source": [
    "# Trigonometric optimal node arrangement\n",
    "\n",
    "In this notebook we will revisit the optimal node arrangement for the trigonometric kernel. This time though we will use the initial assumption that the first node always will be the zero-point of the space we are investigating."
   ]
  },
  {
   "cell_type": "code",
   "execution_count": 1,
   "id": "8fafdd0a",
   "metadata": {},
   "outputs": [],
   "source": [
    "import numpy as np\n",
    "import scipy as sp\n",
    "import GPy\n",
    "import functions\n",
    "import kernels\n",
    "from matplotlib import pyplot as plt"
   ]
  },
  {
   "cell_type": "markdown",
   "id": "568bc5d9",
   "metadata": {},
   "source": [
    "First we will modify the existing function from functions.py to set the first number of nodes to $0$:"
   ]
  },
  {
   "cell_type": "markdown",
   "id": "716a7e14",
   "metadata": {},
   "source": [
    "Now we will do the process:"
   ]
  },
  {
   "cell_type": "code",
   "execution_count": 2,
   "id": "9b5e1907",
   "metadata": {},
   "outputs": [],
   "source": [
    "A = np.array([0, 1])\n",
    "restarts = 10\n",
    "kern = kernels.Trigonometric(input_dim=1, weight=0.5)\n",
    "Optimal_nodes = np.zeros((6, 7))"
   ]
  },
  {
   "cell_type": "code",
   "execution_count": 3,
   "id": "6d81d27c",
   "metadata": {},
   "outputs": [],
   "source": [
    "for NoN in range(2, 8):\n",
    "    temp = functions.Optimizer_nodes_trigonometric(kernel=kern, number_of_nodes=NoN, opt_restarts=restarts, return_var=False)\n",
    "    for i in range(0, NoN):\n",
    "        Optimal_nodes[NoN - 2][i] = temp[i]"
   ]
  },
  {
   "cell_type": "code",
   "execution_count": 4,
   "id": "76f6f927",
   "metadata": {},
   "outputs": [
    {
     "data": {
      "text/plain": [
       "array([[0.49998779, 0.        , 0.        , 0.        , 0.        ,\n",
       "        0.        , 0.        ],\n",
       "       [0.33336964, 0.66668988, 0.        , 0.        , 0.        ,\n",
       "        0.        , 0.        ],\n",
       "       [0.50003523, 0.7500031 , 0.25002743, 0.        , 0.        ,\n",
       "        0.        , 0.        ],\n",
       "       [0.60001247, 0.4000462 , 0.20003695, 0.79999433, 0.        ,\n",
       "        0.        , 0.        ],\n",
       "       [0.83335157, 0.66669809, 0.33331758, 0.16663169, 0.4999989 ,\n",
       "        0.        , 0.        ],\n",
       "       [0.14287506, 0.28573371, 0.42855693, 0.85714039, 0.57139452,\n",
       "        0.71428692, 0.        ]])"
      ]
     },
     "execution_count": 4,
     "metadata": {},
     "output_type": "execute_result"
    }
   ],
   "source": [
    "Optimal_nodes"
   ]
  },
  {
   "cell_type": "code",
   "execution_count": 5,
   "id": "b162af02",
   "metadata": {},
   "outputs": [
    {
     "data": {
      "image/png": "[encoded data removed]",
      "text/plain": [
       "<Figure size 432x288 with 1 Axes>"
      ]
     },
     "metadata": {
      "needs_background": "light"
     },
     "output_type": "display_data"
    }
   ],
   "source": [
    "plt.figure()\n",
    "plt.grid()\n",
    "plt.xlim(-0.05, 1.05)\n",
    "plt.ylim(1.5, 7.5)\n",
    "#plt.title(\"Optimal Trigonometric GPQ nodes\", fontsize=15)\n",
    "plt.ylabel(\"Number of nodes\", fontsize=14)\n",
    "plt.xlabel(\"Optimal node arrangement\", fontsize=14)\n",
    "plt.xticks(fontsize=14)\n",
    "plt.yticks(fontsize=14)\n",
    "for i in range(0, 6):\n",
    "    plt.plot(Optimal_nodes[i], (i+2)*np.ones(7), 'ro')\n",
    "plt.show()"
   ]
  }
 ],
 "metadata": {
  "kernelspec": {
   "display_name": "Python 3 (ipykernel)",
   "language": "python",
   "name": "python3"
  },
  "language_info": {
   "codemirror_mode": {
    "name": "ipython",
    "version": 3
   },
   "file_extension": ".py",
   "mimetype": "text/x-python",
   "name": "python",
   "nbconvert_exporter": "python",
   "pygments_lexer": "ipython3",
   "version": "3.7.11"
  }
 },
 "nbformat": 4,
 "nbformat_minor": 5
}
